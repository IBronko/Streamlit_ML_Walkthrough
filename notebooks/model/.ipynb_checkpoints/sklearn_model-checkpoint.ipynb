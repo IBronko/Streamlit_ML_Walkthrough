{
 "cells": [
  {
   "cell_type": "markdown",
   "id": "7cc5a67b",
   "metadata": {},
   "source": [
    "# Import libraries"
   ]
  },
  {
   "cell_type": "code",
   "execution_count": 28,
   "id": "39d8e218",
   "metadata": {},
   "outputs": [],
   "source": [
    "import pandas as pd\n",
    "from sklearn.model_selection import train_test_split, cross_validate\n",
    "from sklearn.linear_model import LogisticRegression\n",
    "from sklearn.dummy import DummyClassifier\n",
    "from sklearn.impute import SimpleImputer\n",
    "from sklearn.compose import make_column_selector as selector\n",
    "from sklearn.preprocessing import LabelEncoder\n",
    "from sklearn.compose import make_column_transformer\n",
    "from sklearn.pipeline import make_pipeline\n",
    "from sklearn.metrics import accuracy_score, balanced_accuracy_score, precision_score, recall_score, classification_report, confusion_matrix, ConfusionMatrixDisplay\n",
    "import matplotlib.pyplot as plt\n",
    "import seaborn as sns\n",
    "from sklearn import set_config\n",
    "set_config(display='diagram')"
   ]
  },
  {
   "cell_type": "markdown",
   "id": "b4c16c4c",
   "metadata": {},
   "source": [
    "# Import precleaned data"
   ]
  },
  {
   "cell_type": "code",
   "execution_count": 2,
   "id": "bf04a881",
   "metadata": {},
   "outputs": [
    {
     "data": {
      "text/html": [
       "<div>\n",
       "<style scoped>\n",
       "    .dataframe tbody tr th:only-of-type {\n",
       "        vertical-align: middle;\n",
       "    }\n",
       "\n",
       "    .dataframe tbody tr th {\n",
       "        vertical-align: top;\n",
       "    }\n",
       "\n",
       "    .dataframe thead th {\n",
       "        text-align: right;\n",
       "    }\n",
       "</style>\n",
       "<table border=\"1\" class=\"dataframe\">\n",
       "  <thead>\n",
       "    <tr style=\"text-align: right;\">\n",
       "      <th></th>\n",
       "      <th>employer</th>\n",
       "      <th>record_date</th>\n",
       "      <th>comment</th>\n",
       "      <th>overall_result</th>\n",
       "      <th>interesting_tasks</th>\n",
       "      <th>equality</th>\n",
       "      <th>communication</th>\n",
       "      <th>working_conditions</th>\n",
       "      <th>supervisor_behavior</th>\n",
       "      <th>dealing_w_older_colleagues</th>\n",
       "      <th>colleague_cohesion</th>\n",
       "      <th>environmental_social awareness</th>\n",
       "      <th>salary_benefits</th>\n",
       "      <th>career_training</th>\n",
       "      <th>work_life_balance</th>\n",
       "      <th>image</th>\n",
       "      <th>overall_number</th>\n",
       "    </tr>\n",
       "  </thead>\n",
       "  <tbody>\n",
       "    <tr>\n",
       "      <th>0</th>\n",
       "      <td>pumagroup</td>\n",
       "      <td>Februar 2020</td>\n",
       "      <td>Spannendes Unternehmen, leider mit sehr intran...</td>\n",
       "      <td>recommended</td>\n",
       "      <td>4.0</td>\n",
       "      <td>4.0</td>\n",
       "      <td>4.0</td>\n",
       "      <td>3.0</td>\n",
       "      <td>3.0</td>\n",
       "      <td>4.0</td>\n",
       "      <td>1.0</td>\n",
       "      <td>1.0</td>\n",
       "      <td>2.0</td>\n",
       "      <td>2.0</td>\n",
       "      <td>5.0</td>\n",
       "      <td>3.0</td>\n",
       "      <td>1</td>\n",
       "    </tr>\n",
       "    <tr>\n",
       "      <th>1</th>\n",
       "      <td>sap</td>\n",
       "      <td>April 2022</td>\n",
       "      <td>Abwechslungsreiche und spannenden Aufgaben</td>\n",
       "      <td>recommended</td>\n",
       "      <td>5.0</td>\n",
       "      <td>5.0</td>\n",
       "      <td>5.0</td>\n",
       "      <td>5.0</td>\n",
       "      <td>4.0</td>\n",
       "      <td>5.0</td>\n",
       "      <td>5.0</td>\n",
       "      <td>5.0</td>\n",
       "      <td>4.0</td>\n",
       "      <td>5.0</td>\n",
       "      <td>3.0</td>\n",
       "      <td>5.0</td>\n",
       "      <td>1</td>\n",
       "    </tr>\n",
       "    <tr>\n",
       "      <th>2</th>\n",
       "      <td>infineon-technologies</td>\n",
       "      <td>Mai 2022</td>\n",
       "      <td>Erlebnis- und Informationsreiche Ausbildung</td>\n",
       "      <td>recommended</td>\n",
       "      <td>NaN</td>\n",
       "      <td>NaN</td>\n",
       "      <td>NaN</td>\n",
       "      <td>NaN</td>\n",
       "      <td>NaN</td>\n",
       "      <td>NaN</td>\n",
       "      <td>NaN</td>\n",
       "      <td>NaN</td>\n",
       "      <td>NaN</td>\n",
       "      <td>NaN</td>\n",
       "      <td>NaN</td>\n",
       "      <td>NaN</td>\n",
       "      <td>1</td>\n",
       "    </tr>\n",
       "    <tr>\n",
       "      <th>3</th>\n",
       "      <td>zalando</td>\n",
       "      <td>August 2021</td>\n",
       "      <td>Max. 1 Jahr länger möchte man dort nicht Arbeiten</td>\n",
       "      <td>not_recommended</td>\n",
       "      <td>1.0</td>\n",
       "      <td>1.0</td>\n",
       "      <td>2.0</td>\n",
       "      <td>1.0</td>\n",
       "      <td>1.0</td>\n",
       "      <td>1.0</td>\n",
       "      <td>2.0</td>\n",
       "      <td>3.0</td>\n",
       "      <td>1.0</td>\n",
       "      <td>1.0</td>\n",
       "      <td>1.0</td>\n",
       "      <td>2.0</td>\n",
       "      <td>0</td>\n",
       "    </tr>\n",
       "    <tr>\n",
       "      <th>4</th>\n",
       "      <td>basf-se</td>\n",
       "      <td>Januar 2022</td>\n",
       "      <td>Wenig Geld für viel Stress</td>\n",
       "      <td>recommended</td>\n",
       "      <td>5.0</td>\n",
       "      <td>4.0</td>\n",
       "      <td>5.0</td>\n",
       "      <td>4.0</td>\n",
       "      <td>5.0</td>\n",
       "      <td>5.0</td>\n",
       "      <td>5.0</td>\n",
       "      <td>3.0</td>\n",
       "      <td>3.0</td>\n",
       "      <td>5.0</td>\n",
       "      <td>3.0</td>\n",
       "      <td>5.0</td>\n",
       "      <td>1</td>\n",
       "    </tr>\n",
       "  </tbody>\n",
       "</table>\n",
       "</div>"
      ],
      "text/plain": [
       "                employer   record_date  \\\n",
       "0              pumagroup  Februar 2020   \n",
       "1                    sap    April 2022   \n",
       "2  infineon-technologies      Mai 2022   \n",
       "3                zalando   August 2021   \n",
       "4                basf-se   Januar 2022   \n",
       "\n",
       "                                             comment   overall_result  \\\n",
       "0  Spannendes Unternehmen, leider mit sehr intran...      recommended   \n",
       "1         Abwechslungsreiche und spannenden Aufgaben      recommended   \n",
       "2        Erlebnis- und Informationsreiche Ausbildung      recommended   \n",
       "3  Max. 1 Jahr länger möchte man dort nicht Arbeiten  not_recommended   \n",
       "4                         Wenig Geld für viel Stress      recommended   \n",
       "\n",
       "   interesting_tasks  equality  communication  working_conditions  \\\n",
       "0                4.0       4.0            4.0                 3.0   \n",
       "1                5.0       5.0            5.0                 5.0   \n",
       "2                NaN       NaN            NaN                 NaN   \n",
       "3                1.0       1.0            2.0                 1.0   \n",
       "4                5.0       4.0            5.0                 4.0   \n",
       "\n",
       "   supervisor_behavior  dealing_w_older_colleagues  colleague_cohesion  \\\n",
       "0                  3.0                         4.0                 1.0   \n",
       "1                  4.0                         5.0                 5.0   \n",
       "2                  NaN                         NaN                 NaN   \n",
       "3                  1.0                         1.0                 2.0   \n",
       "4                  5.0                         5.0                 5.0   \n",
       "\n",
       "   environmental_social awareness  salary_benefits  career_training  \\\n",
       "0                             1.0              2.0              2.0   \n",
       "1                             5.0              4.0              5.0   \n",
       "2                             NaN              NaN              NaN   \n",
       "3                             3.0              1.0              1.0   \n",
       "4                             3.0              3.0              5.0   \n",
       "\n",
       "   work_life_balance  image  overall_number  \n",
       "0                5.0    3.0               1  \n",
       "1                3.0    5.0               1  \n",
       "2                NaN    NaN               1  \n",
       "3                1.0    2.0               0  \n",
       "4                3.0    5.0               1  "
      ]
     },
     "execution_count": 2,
     "metadata": {},
     "output_type": "execute_result"
    }
   ],
   "source": [
    "df = pd.read_csv(\"data_cleaned.csv\")\n",
    "df.drop(\"Unnamed: 0\", axis=1, inplace=True)\n",
    "df.head()"
   ]
  },
  {
   "cell_type": "markdown",
   "id": "5b77d6c1",
   "metadata": {},
   "source": [
    "# Model building\n",
    "The goal is to build a classification model, that is able to predict weather an employee would recomment a employer based on the different rating features"
   ]
  },
  {
   "cell_type": "markdown",
   "id": "5cc9cd28",
   "metadata": {},
   "source": [
    "## Feature selection"
   ]
  },
  {
   "cell_type": "code",
   "execution_count": 3,
   "id": "8ac0d7c6",
   "metadata": {},
   "outputs": [],
   "source": [
    "# Split data to data/feature and target \n",
    "\n",
    "drop_features = [\"employer\", \"record_date\", \"comment\", \"overall_result\", \"overall_number\"]\n",
    "\n",
    "target = df.overall_number\n",
    "data = df.drop(drop_features, axis=1)"
   ]
  },
  {
   "cell_type": "code",
   "execution_count": 4,
   "id": "7594e258",
   "metadata": {},
   "outputs": [
    {
     "data": {
      "text/plain": [
       "(<bound method Series.info of 0       1\n",
       " 1       1\n",
       " 2       1\n",
       " 3       0\n",
       " 4       1\n",
       "        ..\n",
       " 3169    0\n",
       " 3170    1\n",
       " 3171    1\n",
       " 3172    0\n",
       " 3173    0\n",
       " Name: overall_number, Length: 3174, dtype: int64>,\n",
       " interesting_tasks                 float64\n",
       " equality                          float64\n",
       " communication                     float64\n",
       " working_conditions                float64\n",
       " supervisor_behavior               float64\n",
       " dealing_w_older_colleagues        float64\n",
       " colleague_cohesion                float64\n",
       " environmental_social awareness    float64\n",
       " salary_benefits                   float64\n",
       " career_training                   float64\n",
       " work_life_balance                 float64\n",
       " image                             float64\n",
       " dtype: object)"
      ]
     },
     "execution_count": 4,
     "metadata": {},
     "output_type": "execute_result"
    }
   ],
   "source": [
    "# Check data types\n",
    "\n",
    "target.info, data.dtypes"
   ]
  },
  {
   "cell_type": "code",
   "execution_count": 5,
   "id": "1503e54e",
   "metadata": {},
   "outputs": [
    {
     "name": "stdout",
     "output_type": "stream",
     "text": [
      "Number of target samples (rows): 3174 \n",
      "\n",
      "Number of feature samples (rows): 3174 \n",
      "\n",
      "Number of features (columns): 12 \n",
      "\n",
      "Features:\n",
      " ['interesting_tasks', 'equality', 'communication', 'working_conditions', 'supervisor_behavior', 'dealing_w_older_colleagues', 'colleague_cohesion', 'environmental_social awareness', 'salary_benefits', 'career_training', 'work_life_balance', 'image'] \n",
      "\n"
     ]
    }
   ],
   "source": [
    "print(f\"Number of target samples (rows): {target.shape[0]} \\n\")\n",
    "print(f\"Number of feature samples (rows): {target.shape[0]} \\n\")\n",
    "print(f\"Number of features (columns): {data.shape[1]} \\n\")\n",
    "print(f\"Features:\\n {list(data.columns)} \\n\")"
   ]
  },
  {
   "cell_type": "code",
   "execution_count": 6,
   "id": "ff2b2fda",
   "metadata": {},
   "outputs": [
    {
     "data": {
      "text/plain": [
       "interesting_tasks                 166\n",
       "equality                          201\n",
       "communication                     147\n",
       "working_conditions                169\n",
       "supervisor_behavior               145\n",
       "dealing_w_older_colleagues        265\n",
       "colleague_cohesion                143\n",
       "environmental_social awareness    250\n",
       "salary_benefits                   189\n",
       "career_training                   207\n",
       "work_life_balance                 203\n",
       "image                             228\n",
       "dtype: int64"
      ]
     },
     "execution_count": 6,
     "metadata": {},
     "output_type": "execute_result"
    }
   ],
   "source": [
    "# There are still quite a few missing values, \n",
    "# which need to be handled (I'll try if these values can be imputed within the model pipeline)\n",
    "\n",
    "data.isna().sum()"
   ]
  },
  {
   "cell_type": "markdown",
   "id": "d1fbc92c",
   "metadata": {},
   "source": [
    "## Create train-/test split"
   ]
  },
  {
   "cell_type": "code",
   "execution_count": 7,
   "id": "4545894c",
   "metadata": {},
   "outputs": [],
   "source": [
    "data_train, data_test, target_train, target_test = train_test_split(data, target, test_size=0.25, random_state=123)"
   ]
  },
  {
   "cell_type": "code",
   "execution_count": 8,
   "id": "6bd4dd26",
   "metadata": {},
   "outputs": [
    {
     "name": "stdout",
     "output_type": "stream",
     "text": [
      "Features train set (rows/columns): (2380, 12)\n",
      "Target train set (rows/columns): (2380,) \n",
      "\n",
      "Features test set (rows/columns): (794, 12)\n",
      "Target test set (rows/columns): (794,)\n"
     ]
    }
   ],
   "source": [
    "print(f\"Features train set (rows/columns): {data_train.shape}\")\n",
    "print(f\"Target train set (rows/columns): {target_train.shape} \\n\")\n",
    "\n",
    "print(f\"Features test set (rows/columns): {data_test.shape}\")\n",
    "\n",
    "print(f\"Target test set (rows/columns): {target_test.shape}\")"
   ]
  },
  {
   "cell_type": "markdown",
   "id": "13549e9d",
   "metadata": {},
   "source": [
    "The test set will be left out in the further process until the end for a final evaluation of the model."
   ]
  },
  {
   "cell_type": "markdown",
   "id": "989d658a",
   "metadata": {},
   "source": [
    "## Define preprocessing steps\n",
    "- impute missing values"
   ]
  },
  {
   "cell_type": "code",
   "execution_count": 9,
   "id": "05cb520d",
   "metadata": {},
   "outputs": [],
   "source": [
    "# Let's make the model find the numerical columns automatically\n",
    "# Creating a preprocessor pipeline (Column Transformer) like this with only one step is not really necessary here, \n",
    "# but getting comfortable with this kind of structure can help later on...\n",
    "\n",
    "\n",
    "def make_preprocessor(data):\n",
    "    numerical_columns_selector = selector(dtype_exclude=object)\n",
    "    numerical_columns = numerical_columns_selector(data) \n",
    "    numerical_preprocessor = SimpleImputer(strategy=\"most_frequent\")\n",
    "    preprocessor = make_column_transformer([numerical_preprocessor, numerical_columns], remainder=\"passthrough\")\n",
    "    return preprocessor"
   ]
  },
  {
   "cell_type": "markdown",
   "id": "5ed1ecbf",
   "metadata": {},
   "source": [
    "## Create baseline with dummy classifier"
   ]
  },
  {
   "cell_type": "code",
   "execution_count": 40,
   "id": "1cc77b09",
   "metadata": {},
   "outputs": [],
   "source": [
    "def evaluate(target_test, predictions):\n",
    "    accuracy = accuracy_score(target_test, predictions)\n",
    "    bal_accuracy = balanced_accuracy_score(target_test, predictions)\n",
    "    precision = precision_score(target_test, predictions, pos_label=1)\n",
    "    recall = recall_score(target_test, predictions, pos_label=1)\n",
    "    return accuracy, bal_accuracy, precision, recall"
   ]
  },
  {
   "cell_type": "code",
   "execution_count": 10,
   "id": "e699e646",
   "metadata": {},
   "outputs": [],
   "source": [
    "class DummyPipe:\n",
    "    \n",
    "    title = \"Dummy Classifier Pipeline\"\n",
    "    \n",
    "    def __init__(self):\n",
    "        self.model = DummyClassifier(strategy='most_frequent', random_state=0)\n",
    "        \n",
    "    def pipe (self, data):\n",
    "        preprocessor = make_preprocessor(data)\n",
    "        pipeline = make_pipeline(preprocessor, self.model)\n",
    "        return pipeline    "
   ]
  },
  {
   "cell_type": "code",
   "execution_count": 11,
   "id": "31d8ad7c",
   "metadata": {},
   "outputs": [],
   "source": [
    "dummy_pipe = DummyPipe().pipe(data)"
   ]
  },
  {
   "cell_type": "code",
   "execution_count": 12,
   "id": "1cb1998b",
   "metadata": {},
   "outputs": [
    {
     "data": {
      "text/html": [
       "<style>#sk-container-id-1 {color: black;background-color: white;}#sk-container-id-1 pre{padding: 0;}#sk-container-id-1 div.sk-toggleable {background-color: white;}#sk-container-id-1 label.sk-toggleable__label {cursor: pointer;display: block;width: 100%;margin-bottom: 0;padding: 0.3em;box-sizing: border-box;text-align: center;}#sk-container-id-1 label.sk-toggleable__label-arrow:before {content: \"▸\";float: left;margin-right: 0.25em;color: #696969;}#sk-container-id-1 label.sk-toggleable__label-arrow:hover:before {color: black;}#sk-container-id-1 div.sk-estimator:hover label.sk-toggleable__label-arrow:before {color: black;}#sk-container-id-1 div.sk-toggleable__content {max-height: 0;max-width: 0;overflow: hidden;text-align: left;background-color: #f0f8ff;}#sk-container-id-1 div.sk-toggleable__content pre {margin: 0.2em;color: black;border-radius: 0.25em;background-color: #f0f8ff;}#sk-container-id-1 input.sk-toggleable__control:checked~div.sk-toggleable__content {max-height: 200px;max-width: 100%;overflow: auto;}#sk-container-id-1 input.sk-toggleable__control:checked~label.sk-toggleable__label-arrow:before {content: \"▾\";}#sk-container-id-1 div.sk-estimator input.sk-toggleable__control:checked~label.sk-toggleable__label {background-color: #d4ebff;}#sk-container-id-1 div.sk-label input.sk-toggleable__control:checked~label.sk-toggleable__label {background-color: #d4ebff;}#sk-container-id-1 input.sk-hidden--visually {border: 0;clip: rect(1px 1px 1px 1px);clip: rect(1px, 1px, 1px, 1px);height: 1px;margin: -1px;overflow: hidden;padding: 0;position: absolute;width: 1px;}#sk-container-id-1 div.sk-estimator {font-family: monospace;background-color: #f0f8ff;border: 1px dotted black;border-radius: 0.25em;box-sizing: border-box;margin-bottom: 0.5em;}#sk-container-id-1 div.sk-estimator:hover {background-color: #d4ebff;}#sk-container-id-1 div.sk-parallel-item::after {content: \"\";width: 100%;border-bottom: 1px solid gray;flex-grow: 1;}#sk-container-id-1 div.sk-label:hover label.sk-toggleable__label {background-color: #d4ebff;}#sk-container-id-1 div.sk-serial::before {content: \"\";position: absolute;border-left: 1px solid gray;box-sizing: border-box;top: 0;bottom: 0;left: 50%;z-index: 0;}#sk-container-id-1 div.sk-serial {display: flex;flex-direction: column;align-items: center;background-color: white;padding-right: 0.2em;padding-left: 0.2em;position: relative;}#sk-container-id-1 div.sk-item {position: relative;z-index: 1;}#sk-container-id-1 div.sk-parallel {display: flex;align-items: stretch;justify-content: center;background-color: white;position: relative;}#sk-container-id-1 div.sk-item::before, #sk-container-id-1 div.sk-parallel-item::before {content: \"\";position: absolute;border-left: 1px solid gray;box-sizing: border-box;top: 0;bottom: 0;left: 50%;z-index: -1;}#sk-container-id-1 div.sk-parallel-item {display: flex;flex-direction: column;z-index: 1;position: relative;background-color: white;}#sk-container-id-1 div.sk-parallel-item:first-child::after {align-self: flex-end;width: 50%;}#sk-container-id-1 div.sk-parallel-item:last-child::after {align-self: flex-start;width: 50%;}#sk-container-id-1 div.sk-parallel-item:only-child::after {width: 0;}#sk-container-id-1 div.sk-dashed-wrapped {border: 1px dashed gray;margin: 0 0.4em 0.5em 0.4em;box-sizing: border-box;padding-bottom: 0.4em;background-color: white;}#sk-container-id-1 div.sk-label label {font-family: monospace;font-weight: bold;display: inline-block;line-height: 1.2em;}#sk-container-id-1 div.sk-label-container {text-align: center;}#sk-container-id-1 div.sk-container {/* jupyter's `normalize.less` sets `[hidden] { display: none; }` but bootstrap.min.css set `[hidden] { display: none !important; }` so we also need the `!important` here to be able to override the default hidden behavior on the sphinx rendered scikit-learn.org. See: https://github.com/scikit-learn/scikit-learn/issues/21755 */display: inline-block !important;position: relative;}#sk-container-id-1 div.sk-text-repr-fallback {display: none;}</style><div id=\"sk-container-id-1\" class=\"sk-top-container\"><div class=\"sk-text-repr-fallback\"><pre>Pipeline(steps=[(&#x27;columntransformer&#x27;,\n",
       "                 ColumnTransformer(remainder=&#x27;passthrough&#x27;,\n",
       "                                   transformers=[(&#x27;simpleimputer&#x27;,\n",
       "                                                  SimpleImputer(strategy=&#x27;most_frequent&#x27;),\n",
       "                                                  [&#x27;interesting_tasks&#x27;,\n",
       "                                                   &#x27;equality&#x27;, &#x27;communication&#x27;,\n",
       "                                                   &#x27;working_conditions&#x27;,\n",
       "                                                   &#x27;supervisor_behavior&#x27;,\n",
       "                                                   &#x27;dealing_w_older_colleagues&#x27;,\n",
       "                                                   &#x27;colleague_cohesion&#x27;,\n",
       "                                                   &#x27;environmental_social &#x27;\n",
       "                                                   &#x27;awareness&#x27;,\n",
       "                                                   &#x27;salary_benefits&#x27;,\n",
       "                                                   &#x27;career_training&#x27;,\n",
       "                                                   &#x27;work_life_balance&#x27;,\n",
       "                                                   &#x27;image&#x27;])])),\n",
       "                (&#x27;dummyclassifier&#x27;,\n",
       "                 DummyClassifier(random_state=0, strategy=&#x27;most_frequent&#x27;))])</pre><b>In a Jupyter environment, please rerun this cell to show the HTML representation or trust the notebook. <br />On GitHub, the HTML representation is unable to render, please try loading this page with nbviewer.org.</b></div><div class=\"sk-container\" hidden><div class=\"sk-item sk-dashed-wrapped\"><div class=\"sk-label-container\"><div class=\"sk-label sk-toggleable\"><input class=\"sk-toggleable__control sk-hidden--visually\" id=\"sk-estimator-id-1\" type=\"checkbox\" ><label for=\"sk-estimator-id-1\" class=\"sk-toggleable__label sk-toggleable__label-arrow\">Pipeline</label><div class=\"sk-toggleable__content\"><pre>Pipeline(steps=[(&#x27;columntransformer&#x27;,\n",
       "                 ColumnTransformer(remainder=&#x27;passthrough&#x27;,\n",
       "                                   transformers=[(&#x27;simpleimputer&#x27;,\n",
       "                                                  SimpleImputer(strategy=&#x27;most_frequent&#x27;),\n",
       "                                                  [&#x27;interesting_tasks&#x27;,\n",
       "                                                   &#x27;equality&#x27;, &#x27;communication&#x27;,\n",
       "                                                   &#x27;working_conditions&#x27;,\n",
       "                                                   &#x27;supervisor_behavior&#x27;,\n",
       "                                                   &#x27;dealing_w_older_colleagues&#x27;,\n",
       "                                                   &#x27;colleague_cohesion&#x27;,\n",
       "                                                   &#x27;environmental_social &#x27;\n",
       "                                                   &#x27;awareness&#x27;,\n",
       "                                                   &#x27;salary_benefits&#x27;,\n",
       "                                                   &#x27;career_training&#x27;,\n",
       "                                                   &#x27;work_life_balance&#x27;,\n",
       "                                                   &#x27;image&#x27;])])),\n",
       "                (&#x27;dummyclassifier&#x27;,\n",
       "                 DummyClassifier(random_state=0, strategy=&#x27;most_frequent&#x27;))])</pre></div></div></div><div class=\"sk-serial\"><div class=\"sk-item sk-dashed-wrapped\"><div class=\"sk-label-container\"><div class=\"sk-label sk-toggleable\"><input class=\"sk-toggleable__control sk-hidden--visually\" id=\"sk-estimator-id-2\" type=\"checkbox\" ><label for=\"sk-estimator-id-2\" class=\"sk-toggleable__label sk-toggleable__label-arrow\">columntransformer: ColumnTransformer</label><div class=\"sk-toggleable__content\"><pre>ColumnTransformer(remainder=&#x27;passthrough&#x27;,\n",
       "                  transformers=[(&#x27;simpleimputer&#x27;,\n",
       "                                 SimpleImputer(strategy=&#x27;most_frequent&#x27;),\n",
       "                                 [&#x27;interesting_tasks&#x27;, &#x27;equality&#x27;,\n",
       "                                  &#x27;communication&#x27;, &#x27;working_conditions&#x27;,\n",
       "                                  &#x27;supervisor_behavior&#x27;,\n",
       "                                  &#x27;dealing_w_older_colleagues&#x27;,\n",
       "                                  &#x27;colleague_cohesion&#x27;,\n",
       "                                  &#x27;environmental_social awareness&#x27;,\n",
       "                                  &#x27;salary_benefits&#x27;, &#x27;career_training&#x27;,\n",
       "                                  &#x27;work_life_balance&#x27;, &#x27;image&#x27;])])</pre></div></div></div><div class=\"sk-parallel\"><div class=\"sk-parallel-item\"><div class=\"sk-item\"><div class=\"sk-label-container\"><div class=\"sk-label sk-toggleable\"><input class=\"sk-toggleable__control sk-hidden--visually\" id=\"sk-estimator-id-3\" type=\"checkbox\" ><label for=\"sk-estimator-id-3\" class=\"sk-toggleable__label sk-toggleable__label-arrow\">simpleimputer</label><div class=\"sk-toggleable__content\"><pre>[&#x27;interesting_tasks&#x27;, &#x27;equality&#x27;, &#x27;communication&#x27;, &#x27;working_conditions&#x27;, &#x27;supervisor_behavior&#x27;, &#x27;dealing_w_older_colleagues&#x27;, &#x27;colleague_cohesion&#x27;, &#x27;environmental_social awareness&#x27;, &#x27;salary_benefits&#x27;, &#x27;career_training&#x27;, &#x27;work_life_balance&#x27;, &#x27;image&#x27;]</pre></div></div></div><div class=\"sk-serial\"><div class=\"sk-item\"><div class=\"sk-estimator sk-toggleable\"><input class=\"sk-toggleable__control sk-hidden--visually\" id=\"sk-estimator-id-4\" type=\"checkbox\" ><label for=\"sk-estimator-id-4\" class=\"sk-toggleable__label sk-toggleable__label-arrow\">SimpleImputer</label><div class=\"sk-toggleable__content\"><pre>SimpleImputer(strategy=&#x27;most_frequent&#x27;)</pre></div></div></div></div></div></div><div class=\"sk-parallel-item\"><div class=\"sk-item\"><div class=\"sk-label-container\"><div class=\"sk-label sk-toggleable\"><input class=\"sk-toggleable__control sk-hidden--visually\" id=\"sk-estimator-id-5\" type=\"checkbox\" ><label for=\"sk-estimator-id-5\" class=\"sk-toggleable__label sk-toggleable__label-arrow\">remainder</label><div class=\"sk-toggleable__content\"><pre></pre></div></div></div><div class=\"sk-serial\"><div class=\"sk-item\"><div class=\"sk-estimator sk-toggleable\"><input class=\"sk-toggleable__control sk-hidden--visually\" id=\"sk-estimator-id-6\" type=\"checkbox\" ><label for=\"sk-estimator-id-6\" class=\"sk-toggleable__label sk-toggleable__label-arrow\">passthrough</label><div class=\"sk-toggleable__content\"><pre>passthrough</pre></div></div></div></div></div></div></div></div><div class=\"sk-item\"><div class=\"sk-estimator sk-toggleable\"><input class=\"sk-toggleable__control sk-hidden--visually\" id=\"sk-estimator-id-7\" type=\"checkbox\" ><label for=\"sk-estimator-id-7\" class=\"sk-toggleable__label sk-toggleable__label-arrow\">DummyClassifier</label><div class=\"sk-toggleable__content\"><pre>DummyClassifier(random_state=0, strategy=&#x27;most_frequent&#x27;)</pre></div></div></div></div></div></div></div>"
      ],
      "text/plain": [
       "Pipeline(steps=[('columntransformer',\n",
       "                 ColumnTransformer(remainder='passthrough',\n",
       "                                   transformers=[('simpleimputer',\n",
       "                                                  SimpleImputer(strategy='most_frequent'),\n",
       "                                                  ['interesting_tasks',\n",
       "                                                   'equality', 'communication',\n",
       "                                                   'working_conditions',\n",
       "                                                   'supervisor_behavior',\n",
       "                                                   'dealing_w_older_colleagues',\n",
       "                                                   'colleague_cohesion',\n",
       "                                                   'environmental_social '\n",
       "                                                   'awareness',\n",
       "                                                   'salary_benefits',\n",
       "                                                   'career_training',\n",
       "                                                   'work_life_balance',\n",
       "                                                   'image'])])),\n",
       "                ('dummyclassifier',\n",
       "                 DummyClassifier(random_state=0, strategy='most_frequent'))])"
      ]
     },
     "execution_count": 12,
     "metadata": {},
     "output_type": "execute_result"
    }
   ],
   "source": [
    "dummy_pipe"
   ]
  },
  {
   "cell_type": "code",
   "execution_count": 13,
   "id": "e2db8604",
   "metadata": {},
   "outputs": [],
   "source": [
    "_ = dummy_pipe.fit(data_train, target_train)"
   ]
  },
  {
   "cell_type": "code",
   "execution_count": 14,
   "id": "af20e697",
   "metadata": {},
   "outputs": [],
   "source": [
    "dummy_pipe_predictions = dummy_pipe.predict(data_test)"
   ]
  },
  {
   "cell_type": "code",
   "execution_count": 41,
   "id": "07fd3cf8",
   "metadata": {},
   "outputs": [
    {
     "name": "stdout",
     "output_type": "stream",
     "text": [
      "Accuracy score on test set: 65%\n",
      "Balanced accuracy score on test set: 50%\n"
     ]
    }
   ],
   "source": [
    "dummy_accuracy, dummy_bal_accuracy, _, _ = evaluate(target_test, dummy_pipe_predictions)\n",
    "\n",
    "print(f\"Accuracy score on test set: {dummy_accuracy*100:.0f}%\")\n",
    "print(f\"Balanced accuracy score on test set: {dummy_bal_accuracy*100:.0f}%\")"
   ]
  },
  {
   "cell_type": "markdown",
   "id": "3e9d9429",
   "metadata": {},
   "source": [
    "## Create Logistic Regression model pipeline"
   ]
  },
  {
   "cell_type": "code",
   "execution_count": 16,
   "id": "bbd3c783",
   "metadata": {},
   "outputs": [
    {
     "data": {
      "text/html": [
       "<style>#sk-container-id-2 {color: black;background-color: white;}#sk-container-id-2 pre{padding: 0;}#sk-container-id-2 div.sk-toggleable {background-color: white;}#sk-container-id-2 label.sk-toggleable__label {cursor: pointer;display: block;width: 100%;margin-bottom: 0;padding: 0.3em;box-sizing: border-box;text-align: center;}#sk-container-id-2 label.sk-toggleable__label-arrow:before {content: \"▸\";float: left;margin-right: 0.25em;color: #696969;}#sk-container-id-2 label.sk-toggleable__label-arrow:hover:before {color: black;}#sk-container-id-2 div.sk-estimator:hover label.sk-toggleable__label-arrow:before {color: black;}#sk-container-id-2 div.sk-toggleable__content {max-height: 0;max-width: 0;overflow: hidden;text-align: left;background-color: #f0f8ff;}#sk-container-id-2 div.sk-toggleable__content pre {margin: 0.2em;color: black;border-radius: 0.25em;background-color: #f0f8ff;}#sk-container-id-2 input.sk-toggleable__control:checked~div.sk-toggleable__content {max-height: 200px;max-width: 100%;overflow: auto;}#sk-container-id-2 input.sk-toggleable__control:checked~label.sk-toggleable__label-arrow:before {content: \"▾\";}#sk-container-id-2 div.sk-estimator input.sk-toggleable__control:checked~label.sk-toggleable__label {background-color: #d4ebff;}#sk-container-id-2 div.sk-label input.sk-toggleable__control:checked~label.sk-toggleable__label {background-color: #d4ebff;}#sk-container-id-2 input.sk-hidden--visually {border: 0;clip: rect(1px 1px 1px 1px);clip: rect(1px, 1px, 1px, 1px);height: 1px;margin: -1px;overflow: hidden;padding: 0;position: absolute;width: 1px;}#sk-container-id-2 div.sk-estimator {font-family: monospace;background-color: #f0f8ff;border: 1px dotted black;border-radius: 0.25em;box-sizing: border-box;margin-bottom: 0.5em;}#sk-container-id-2 div.sk-estimator:hover {background-color: #d4ebff;}#sk-container-id-2 div.sk-parallel-item::after {content: \"\";width: 100%;border-bottom: 1px solid gray;flex-grow: 1;}#sk-container-id-2 div.sk-label:hover label.sk-toggleable__label {background-color: #d4ebff;}#sk-container-id-2 div.sk-serial::before {content: \"\";position: absolute;border-left: 1px solid gray;box-sizing: border-box;top: 0;bottom: 0;left: 50%;z-index: 0;}#sk-container-id-2 div.sk-serial {display: flex;flex-direction: column;align-items: center;background-color: white;padding-right: 0.2em;padding-left: 0.2em;position: relative;}#sk-container-id-2 div.sk-item {position: relative;z-index: 1;}#sk-container-id-2 div.sk-parallel {display: flex;align-items: stretch;justify-content: center;background-color: white;position: relative;}#sk-container-id-2 div.sk-item::before, #sk-container-id-2 div.sk-parallel-item::before {content: \"\";position: absolute;border-left: 1px solid gray;box-sizing: border-box;top: 0;bottom: 0;left: 50%;z-index: -1;}#sk-container-id-2 div.sk-parallel-item {display: flex;flex-direction: column;z-index: 1;position: relative;background-color: white;}#sk-container-id-2 div.sk-parallel-item:first-child::after {align-self: flex-end;width: 50%;}#sk-container-id-2 div.sk-parallel-item:last-child::after {align-self: flex-start;width: 50%;}#sk-container-id-2 div.sk-parallel-item:only-child::after {width: 0;}#sk-container-id-2 div.sk-dashed-wrapped {border: 1px dashed gray;margin: 0 0.4em 0.5em 0.4em;box-sizing: border-box;padding-bottom: 0.4em;background-color: white;}#sk-container-id-2 div.sk-label label {font-family: monospace;font-weight: bold;display: inline-block;line-height: 1.2em;}#sk-container-id-2 div.sk-label-container {text-align: center;}#sk-container-id-2 div.sk-container {/* jupyter's `normalize.less` sets `[hidden] { display: none; }` but bootstrap.min.css set `[hidden] { display: none !important; }` so we also need the `!important` here to be able to override the default hidden behavior on the sphinx rendered scikit-learn.org. See: https://github.com/scikit-learn/scikit-learn/issues/21755 */display: inline-block !important;position: relative;}#sk-container-id-2 div.sk-text-repr-fallback {display: none;}</style><div id=\"sk-container-id-2\" class=\"sk-top-container\"><div class=\"sk-text-repr-fallback\"><pre>Pipeline(steps=[(&#x27;columntransformer&#x27;,\n",
       "                 ColumnTransformer(remainder=&#x27;passthrough&#x27;,\n",
       "                                   transformers=[(&#x27;simpleimputer&#x27;,\n",
       "                                                  SimpleImputer(strategy=&#x27;most_frequent&#x27;),\n",
       "                                                  [&#x27;interesting_tasks&#x27;,\n",
       "                                                   &#x27;equality&#x27;, &#x27;communication&#x27;,\n",
       "                                                   &#x27;working_conditions&#x27;,\n",
       "                                                   &#x27;supervisor_behavior&#x27;,\n",
       "                                                   &#x27;dealing_w_older_colleagues&#x27;,\n",
       "                                                   &#x27;colleague_cohesion&#x27;,\n",
       "                                                   &#x27;environmental_social &#x27;\n",
       "                                                   &#x27;awareness&#x27;,\n",
       "                                                   &#x27;salary_benefits&#x27;,\n",
       "                                                   &#x27;career_training&#x27;,\n",
       "                                                   &#x27;work_life_balance&#x27;,\n",
       "                                                   &#x27;image&#x27;])])),\n",
       "                (&#x27;logisticregression&#x27;, LogisticRegression(max_iter=500))])</pre><b>In a Jupyter environment, please rerun this cell to show the HTML representation or trust the notebook. <br />On GitHub, the HTML representation is unable to render, please try loading this page with nbviewer.org.</b></div><div class=\"sk-container\" hidden><div class=\"sk-item sk-dashed-wrapped\"><div class=\"sk-label-container\"><div class=\"sk-label sk-toggleable\"><input class=\"sk-toggleable__control sk-hidden--visually\" id=\"sk-estimator-id-8\" type=\"checkbox\" ><label for=\"sk-estimator-id-8\" class=\"sk-toggleable__label sk-toggleable__label-arrow\">Pipeline</label><div class=\"sk-toggleable__content\"><pre>Pipeline(steps=[(&#x27;columntransformer&#x27;,\n",
       "                 ColumnTransformer(remainder=&#x27;passthrough&#x27;,\n",
       "                                   transformers=[(&#x27;simpleimputer&#x27;,\n",
       "                                                  SimpleImputer(strategy=&#x27;most_frequent&#x27;),\n",
       "                                                  [&#x27;interesting_tasks&#x27;,\n",
       "                                                   &#x27;equality&#x27;, &#x27;communication&#x27;,\n",
       "                                                   &#x27;working_conditions&#x27;,\n",
       "                                                   &#x27;supervisor_behavior&#x27;,\n",
       "                                                   &#x27;dealing_w_older_colleagues&#x27;,\n",
       "                                                   &#x27;colleague_cohesion&#x27;,\n",
       "                                                   &#x27;environmental_social &#x27;\n",
       "                                                   &#x27;awareness&#x27;,\n",
       "                                                   &#x27;salary_benefits&#x27;,\n",
       "                                                   &#x27;career_training&#x27;,\n",
       "                                                   &#x27;work_life_balance&#x27;,\n",
       "                                                   &#x27;image&#x27;])])),\n",
       "                (&#x27;logisticregression&#x27;, LogisticRegression(max_iter=500))])</pre></div></div></div><div class=\"sk-serial\"><div class=\"sk-item sk-dashed-wrapped\"><div class=\"sk-label-container\"><div class=\"sk-label sk-toggleable\"><input class=\"sk-toggleable__control sk-hidden--visually\" id=\"sk-estimator-id-9\" type=\"checkbox\" ><label for=\"sk-estimator-id-9\" class=\"sk-toggleable__label sk-toggleable__label-arrow\">columntransformer: ColumnTransformer</label><div class=\"sk-toggleable__content\"><pre>ColumnTransformer(remainder=&#x27;passthrough&#x27;,\n",
       "                  transformers=[(&#x27;simpleimputer&#x27;,\n",
       "                                 SimpleImputer(strategy=&#x27;most_frequent&#x27;),\n",
       "                                 [&#x27;interesting_tasks&#x27;, &#x27;equality&#x27;,\n",
       "                                  &#x27;communication&#x27;, &#x27;working_conditions&#x27;,\n",
       "                                  &#x27;supervisor_behavior&#x27;,\n",
       "                                  &#x27;dealing_w_older_colleagues&#x27;,\n",
       "                                  &#x27;colleague_cohesion&#x27;,\n",
       "                                  &#x27;environmental_social awareness&#x27;,\n",
       "                                  &#x27;salary_benefits&#x27;, &#x27;career_training&#x27;,\n",
       "                                  &#x27;work_life_balance&#x27;, &#x27;image&#x27;])])</pre></div></div></div><div class=\"sk-parallel\"><div class=\"sk-parallel-item\"><div class=\"sk-item\"><div class=\"sk-label-container\"><div class=\"sk-label sk-toggleable\"><input class=\"sk-toggleable__control sk-hidden--visually\" id=\"sk-estimator-id-10\" type=\"checkbox\" ><label for=\"sk-estimator-id-10\" class=\"sk-toggleable__label sk-toggleable__label-arrow\">simpleimputer</label><div class=\"sk-toggleable__content\"><pre>[&#x27;interesting_tasks&#x27;, &#x27;equality&#x27;, &#x27;communication&#x27;, &#x27;working_conditions&#x27;, &#x27;supervisor_behavior&#x27;, &#x27;dealing_w_older_colleagues&#x27;, &#x27;colleague_cohesion&#x27;, &#x27;environmental_social awareness&#x27;, &#x27;salary_benefits&#x27;, &#x27;career_training&#x27;, &#x27;work_life_balance&#x27;, &#x27;image&#x27;]</pre></div></div></div><div class=\"sk-serial\"><div class=\"sk-item\"><div class=\"sk-estimator sk-toggleable\"><input class=\"sk-toggleable__control sk-hidden--visually\" id=\"sk-estimator-id-11\" type=\"checkbox\" ><label for=\"sk-estimator-id-11\" class=\"sk-toggleable__label sk-toggleable__label-arrow\">SimpleImputer</label><div class=\"sk-toggleable__content\"><pre>SimpleImputer(strategy=&#x27;most_frequent&#x27;)</pre></div></div></div></div></div></div><div class=\"sk-parallel-item\"><div class=\"sk-item\"><div class=\"sk-label-container\"><div class=\"sk-label sk-toggleable\"><input class=\"sk-toggleable__control sk-hidden--visually\" id=\"sk-estimator-id-12\" type=\"checkbox\" ><label for=\"sk-estimator-id-12\" class=\"sk-toggleable__label sk-toggleable__label-arrow\">remainder</label><div class=\"sk-toggleable__content\"><pre></pre></div></div></div><div class=\"sk-serial\"><div class=\"sk-item\"><div class=\"sk-estimator sk-toggleable\"><input class=\"sk-toggleable__control sk-hidden--visually\" id=\"sk-estimator-id-13\" type=\"checkbox\" ><label for=\"sk-estimator-id-13\" class=\"sk-toggleable__label sk-toggleable__label-arrow\">passthrough</label><div class=\"sk-toggleable__content\"><pre>passthrough</pre></div></div></div></div></div></div></div></div><div class=\"sk-item\"><div class=\"sk-estimator sk-toggleable\"><input class=\"sk-toggleable__control sk-hidden--visually\" id=\"sk-estimator-id-14\" type=\"checkbox\" ><label for=\"sk-estimator-id-14\" class=\"sk-toggleable__label sk-toggleable__label-arrow\">LogisticRegression</label><div class=\"sk-toggleable__content\"><pre>LogisticRegression(max_iter=500)</pre></div></div></div></div></div></div></div>"
      ],
      "text/plain": [
       "Pipeline(steps=[('columntransformer',\n",
       "                 ColumnTransformer(remainder='passthrough',\n",
       "                                   transformers=[('simpleimputer',\n",
       "                                                  SimpleImputer(strategy='most_frequent'),\n",
       "                                                  ['interesting_tasks',\n",
       "                                                   'equality', 'communication',\n",
       "                                                   'working_conditions',\n",
       "                                                   'supervisor_behavior',\n",
       "                                                   'dealing_w_older_colleagues',\n",
       "                                                   'colleague_cohesion',\n",
       "                                                   'environmental_social '\n",
       "                                                   'awareness',\n",
       "                                                   'salary_benefits',\n",
       "                                                   'career_training',\n",
       "                                                   'work_life_balance',\n",
       "                                                   'image'])])),\n",
       "                ('logisticregression', LogisticRegression(max_iter=500))])"
      ]
     },
     "execution_count": 16,
     "metadata": {},
     "output_type": "execute_result"
    }
   ],
   "source": [
    "class LogPipe:\n",
    "    \n",
    "    title = \"Logistic Regression Classifier Pipeline\"\n",
    "    \n",
    "    def __init__(self):\n",
    "        self.model = LogisticRegression(max_iter=500)\n",
    "        \n",
    "    def pipe (self, data):\n",
    "        preprocessor = make_preprocessor(data)\n",
    "        pipeline = make_pipeline(preprocessor, self.model)\n",
    "        return pipeline    \n",
    "\n",
    "\n",
    "\n",
    "model = LogPipe().pipe(data)\n",
    "\n",
    "model"
   ]
  },
  {
   "cell_type": "markdown",
   "id": "4b9d810e",
   "metadata": {},
   "source": [
    "## Evaluation of the model with cross-validation"
   ]
  },
  {
   "cell_type": "code",
   "execution_count": 37,
   "id": "f3a81d56",
   "metadata": {},
   "outputs": [],
   "source": [
    "scoring = [\"accuracy\", \"balanced_accuracy\"]\n",
    "cv_result = cross_validate(model, data_train, target_train, cv=10, scoring=scoring)\n",
    "cv_result_df = pd.DataFrame(cv_result).rename({\"test_accuracy\": \"Accuracy\", \"test_balanced_accuracy\":\"Balanced_Accuracy\"}, axis=1)"
   ]
  },
  {
   "cell_type": "code",
   "execution_count": 39,
   "id": "ba3c0dbd",
   "metadata": {},
   "outputs": [
    {
     "data": {
      "text/html": [
       "<div>\n",
       "<style scoped>\n",
       "    .dataframe tbody tr th:only-of-type {\n",
       "        vertical-align: middle;\n",
       "    }\n",
       "\n",
       "    .dataframe tbody tr th {\n",
       "        vertical-align: top;\n",
       "    }\n",
       "\n",
       "    .dataframe thead th {\n",
       "        text-align: right;\n",
       "    }\n",
       "</style>\n",
       "<table border=\"1\" class=\"dataframe\">\n",
       "  <thead>\n",
       "    <tr style=\"text-align: right;\">\n",
       "      <th></th>\n",
       "      <th>fit_time</th>\n",
       "      <th>score_time</th>\n",
       "      <th>Accuracy</th>\n",
       "      <th>Balanced_Accuracy</th>\n",
       "    </tr>\n",
       "  </thead>\n",
       "  <tbody>\n",
       "    <tr>\n",
       "      <th>0</th>\n",
       "      <td>0.049877</td>\n",
       "      <td>0.007273</td>\n",
       "      <td>0.920168</td>\n",
       "      <td>0.914776</td>\n",
       "    </tr>\n",
       "    <tr>\n",
       "      <th>1</th>\n",
       "      <td>0.047586</td>\n",
       "      <td>0.005693</td>\n",
       "      <td>0.878151</td>\n",
       "      <td>0.870592</td>\n",
       "    </tr>\n",
       "    <tr>\n",
       "      <th>2</th>\n",
       "      <td>0.021521</td>\n",
       "      <td>0.005151</td>\n",
       "      <td>0.865546</td>\n",
       "      <td>0.835682</td>\n",
       "    </tr>\n",
       "    <tr>\n",
       "      <th>3</th>\n",
       "      <td>0.019575</td>\n",
       "      <td>0.003984</td>\n",
       "      <td>0.928571</td>\n",
       "      <td>0.914696</td>\n",
       "    </tr>\n",
       "    <tr>\n",
       "      <th>4</th>\n",
       "      <td>0.018570</td>\n",
       "      <td>0.003879</td>\n",
       "      <td>0.878151</td>\n",
       "      <td>0.845116</td>\n",
       "    </tr>\n",
       "    <tr>\n",
       "      <th>5</th>\n",
       "      <td>0.017349</td>\n",
       "      <td>0.003706</td>\n",
       "      <td>0.915966</td>\n",
       "      <td>0.895709</td>\n",
       "    </tr>\n",
       "    <tr>\n",
       "      <th>6</th>\n",
       "      <td>0.017380</td>\n",
       "      <td>0.003560</td>\n",
       "      <td>0.920168</td>\n",
       "      <td>0.895669</td>\n",
       "    </tr>\n",
       "    <tr>\n",
       "      <th>7</th>\n",
       "      <td>0.018950</td>\n",
       "      <td>0.003288</td>\n",
       "      <td>0.882353</td>\n",
       "      <td>0.860998</td>\n",
       "    </tr>\n",
       "    <tr>\n",
       "      <th>8</th>\n",
       "      <td>0.020130</td>\n",
       "      <td>0.003757</td>\n",
       "      <td>0.899160</td>\n",
       "      <td>0.883130</td>\n",
       "    </tr>\n",
       "    <tr>\n",
       "      <th>9</th>\n",
       "      <td>0.019844</td>\n",
       "      <td>0.003348</td>\n",
       "      <td>0.894958</td>\n",
       "      <td>0.882452</td>\n",
       "    </tr>\n",
       "  </tbody>\n",
       "</table>\n",
       "</div>"
      ],
      "text/plain": [
       "   fit_time  score_time  Accuracy  Balanced_Accuracy\n",
       "0  0.049877    0.007273  0.920168           0.914776\n",
       "1  0.047586    0.005693  0.878151           0.870592\n",
       "2  0.021521    0.005151  0.865546           0.835682\n",
       "3  0.019575    0.003984  0.928571           0.914696\n",
       "4  0.018570    0.003879  0.878151           0.845116\n",
       "5  0.017349    0.003706  0.915966           0.895709\n",
       "6  0.017380    0.003560  0.920168           0.895669\n",
       "7  0.018950    0.003288  0.882353           0.860998\n",
       "8  0.020130    0.003757  0.899160           0.883130\n",
       "9  0.019844    0.003348  0.894958           0.882452"
      ]
     },
     "execution_count": 39,
     "metadata": {},
     "output_type": "execute_result"
    }
   ],
   "source": [
    "cv_result_df"
   ]
  },
  {
   "cell_type": "code",
   "execution_count": 38,
   "id": "a48ca245",
   "metadata": {},
   "outputs": [
    {
     "name": "stdout",
     "output_type": "stream",
     "text": [
      "Mean cross-validation accuracy: 89.8% +/- 2%\n",
      "Mean cross-validation balanced accuracy: 88.0% +/- 3%\n"
     ]
    }
   ],
   "source": [
    "print(f\"Mean cross-validation accuracy: {cv_result_df.Accuracy.mean()*100:.1f}% +/- {cv_result_df.Accuracy.std()*100:.0f}%\")\n",
    "print(f\"Mean cross-validation balanced accuracy: {cv_result_df.Balanced_Accuracy.mean()*100:.1f}% +/- {cv_result_df.Balanced_Accuracy.std()*100:.0f}%\")"
   ]
  },
  {
   "cell_type": "markdown",
   "id": "6934f81f",
   "metadata": {},
   "source": [
    "## Train the model"
   ]
  },
  {
   "cell_type": "code",
   "execution_count": 19,
   "id": "d366eb15",
   "metadata": {},
   "outputs": [],
   "source": [
    "_ = model.fit(data_train, target_train)"
   ]
  },
  {
   "cell_type": "markdown",
   "id": "b7d8edbc",
   "metadata": {},
   "source": [
    "## Evaluation with test data"
   ]
  },
  {
   "cell_type": "code",
   "execution_count": 20,
   "id": "3abd7a93",
   "metadata": {},
   "outputs": [],
   "source": [
    "target_predictions = model.predict(data_test)"
   ]
  },
  {
   "cell_type": "code",
   "execution_count": 30,
   "id": "b6297c91",
   "metadata": {},
   "outputs": [
    {
     "name": "stdout",
     "output_type": "stream",
     "text": [
      "Accuracy score on test set: 90%\n",
      "Balanced accuracy score on test set: 88%\n",
      "Precision score on test set: 92%\n",
      "Recall score on test set: 93%\n"
     ]
    }
   ],
   "source": [
    "\n",
    "\n",
    "accuracy, bal_accuracy, precision, recall = evaluate(target_test, predictions) \n",
    "\n",
    "print(f\"Accuracy score on test set: {accuracy*100:.0f}%\")\n",
    "print(f\"Balanced accuracy score on test set: {bal_accuracy*100:.0f}%\")\n",
    "print(f\"Precision score on test set: {precision*100:.0f}%\")\n",
    "print(f\"Recall score on test set: {recall*100:.0f}%\")"
   ]
  },
  {
   "cell_type": "code",
   "execution_count": 22,
   "id": "e7c21955",
   "metadata": {},
   "outputs": [
    {
     "name": "stdout",
     "output_type": "stream",
     "text": [
      "[[232  44]\n",
      " [ 38 480]]\n"
     ]
    },
    {
     "data": {
      "image/png": "[encoded data removed]",
      "text/plain": [
       "<Figure size 432x288 with 2 Axes>"
      ]
     },
     "metadata": {
      "needs_background": "light"
     },
     "output_type": "display_data"
    }
   ],
   "source": [
    "target_names = ['recommended', 'not recommended']\n",
    "\n",
    "cm_plot = ConfusionMatrixDisplay.from_estimator(\n",
    "        model,\n",
    "        data_test,\n",
    "        target_test,\n",
    "        display_labels=target_names,\n",
    "        cmap=plt.cm.Blues,\n",
    "        )\n",
    "cm_plot.ax_.set_title(\"Confusion matrix\")\n",
    "\n",
    "print(cm_plot.confusion_matrix)\n"
   ]
  },
  {
   "cell_type": "code",
   "execution_count": 31,
   "id": "b853e759",
   "metadata": {},
   "outputs": [
    {
     "data": {
      "text/plain": [
       " 0    712\n",
       "-1     44\n",
       " 1     38\n",
       "Name: Difference, dtype: int64"
      ]
     },
     "execution_count": 31,
     "metadata": {},
     "output_type": "execute_result"
    }
   ],
   "source": [
    "# Manual check of correct predictions and FP and FN\n",
    "\n",
    "targets = target_test.to_list()\n",
    "predictions = list(target_predictions)\n",
    "zipped = zip(targets, predictions)\n",
    "df_comparison = pd.DataFrame(zipped, columns=[\"Targets\", \"Predictions\"])\n",
    "df_comparison[\"Difference\"] = df_comparison.Targets - df_comparison.Predictions\n",
    "df_comparison.Difference.value_counts()"
   ]
  }
 ],
 "metadata": {
  "kernelspec": {
   "display_name": "Streamlit_ML_Walkthrough",
   "language": "python",
   "name": "streamlit_ml_walkthrough"
  },
  "language_info": {
   "codemirror_mode": {
    "name": "ipython",
    "version": 3
   },
   "file_extension": ".py",
   "mimetype": "text/x-python",
   "name": "python",
   "nbconvert_exporter": "python",
   "pygments_lexer": "ipython3",
   "version": "3.10.1"
  }
 },
 "nbformat": 4,
 "nbformat_minor": 5
}
