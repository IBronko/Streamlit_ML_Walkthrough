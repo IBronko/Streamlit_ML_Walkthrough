{
 "cells": [
  {
   "cell_type": "markdown",
   "id": "7cc5a67b",
   "metadata": {},
   "source": [
    "# Import libraries"
   ]
  },
  {
   "cell_type": "code",
   "execution_count": 138,
   "id": "39d8e218",
   "metadata": {},
   "outputs": [],
   "source": [
    "import pandas as pd\n",
    "from sklearn.model_selection import train_test_split, cross_validate\n",
    "from sklearn.linear_model import LogisticRegression\n",
    "from sklearn.impute import SimpleImputer\n",
    "from sklearn.compose import make_column_selector as selector\n",
    "from sklearn.preprocessing import LabelEncoder\n",
    "from sklearn.compose import make_column_transformer\n",
    "from sklearn.pipeline import make_pipeline\n",
    "from sklearn.metrics import accuracy_score, balanced_accuracy_score\n",
    "import matplotlib.pyplot as plt\n",
    "import seaborn as sns"
   ]
  },
  {
   "cell_type": "markdown",
   "id": "b4c16c4c",
   "metadata": {},
   "source": [
    "# Import precleaned data"
   ]
  },
  {
   "cell_type": "code",
   "execution_count": 3,
   "id": "bf04a881",
   "metadata": {},
   "outputs": [
    {
     "data": {
      "text/html": [
       "<div>\n",
       "<style scoped>\n",
       "    .dataframe tbody tr th:only-of-type {\n",
       "        vertical-align: middle;\n",
       "    }\n",
       "\n",
       "    .dataframe tbody tr th {\n",
       "        vertical-align: top;\n",
       "    }\n",
       "\n",
       "    .dataframe thead th {\n",
       "        text-align: right;\n",
       "    }\n",
       "</style>\n",
       "<table border=\"1\" class=\"dataframe\">\n",
       "  <thead>\n",
       "    <tr style=\"text-align: right;\">\n",
       "      <th></th>\n",
       "      <th>employer</th>\n",
       "      <th>record_date</th>\n",
       "      <th>comment</th>\n",
       "      <th>overall_result</th>\n",
       "      <th>interesting_tasks</th>\n",
       "      <th>equality</th>\n",
       "      <th>communication</th>\n",
       "      <th>working_conditions</th>\n",
       "      <th>supervisor_behavior</th>\n",
       "      <th>dealing_w_older_colleagues</th>\n",
       "      <th>colleague_cohesion</th>\n",
       "      <th>environmental_social awareness</th>\n",
       "      <th>salary_benefits</th>\n",
       "      <th>career_training</th>\n",
       "      <th>work_life_balance</th>\n",
       "      <th>image</th>\n",
       "    </tr>\n",
       "  </thead>\n",
       "  <tbody>\n",
       "    <tr>\n",
       "      <th>0</th>\n",
       "      <td>adidas</td>\n",
       "      <td>Mai 2022</td>\n",
       "      <td>adidas AG - Manager Level</td>\n",
       "      <td>not_recommended</td>\n",
       "      <td>4.0</td>\n",
       "      <td>4.0</td>\n",
       "      <td>4.0</td>\n",
       "      <td>4.0</td>\n",
       "      <td>2.0</td>\n",
       "      <td>2.0</td>\n",
       "      <td>4.0</td>\n",
       "      <td>4.0</td>\n",
       "      <td>2.0</td>\n",
       "      <td>2.0</td>\n",
       "      <td>4.0</td>\n",
       "      <td>3.0</td>\n",
       "    </tr>\n",
       "    <tr>\n",
       "      <th>1</th>\n",
       "      <td>adidas</td>\n",
       "      <td>Mai 2022</td>\n",
       "      <td>Großer Konzern mit konservativen und veraltete...</td>\n",
       "      <td>not_recommended</td>\n",
       "      <td>1.0</td>\n",
       "      <td>2.0</td>\n",
       "      <td>1.0</td>\n",
       "      <td>3.0</td>\n",
       "      <td>1.0</td>\n",
       "      <td>2.0</td>\n",
       "      <td>1.0</td>\n",
       "      <td>3.0</td>\n",
       "      <td>4.0</td>\n",
       "      <td>1.0</td>\n",
       "      <td>2.0</td>\n",
       "      <td>2.0</td>\n",
       "    </tr>\n",
       "    <tr>\n",
       "      <th>2</th>\n",
       "      <td>adidas</td>\n",
       "      <td>Mai 2022</td>\n",
       "      <td>Super Campus aber intern politisch</td>\n",
       "      <td>not_recommended</td>\n",
       "      <td>4.0</td>\n",
       "      <td>1.0</td>\n",
       "      <td>2.0</td>\n",
       "      <td>3.0</td>\n",
       "      <td>2.0</td>\n",
       "      <td>1.0</td>\n",
       "      <td>2.0</td>\n",
       "      <td>4.0</td>\n",
       "      <td>2.0</td>\n",
       "      <td>3.0</td>\n",
       "      <td>5.0</td>\n",
       "      <td>2.0</td>\n",
       "    </tr>\n",
       "    <tr>\n",
       "      <th>3</th>\n",
       "      <td>adidas</td>\n",
       "      <td>April 2022</td>\n",
       "      <td>Große Marke, hohe Erwartungen</td>\n",
       "      <td>recommended</td>\n",
       "      <td>5.0</td>\n",
       "      <td>5.0</td>\n",
       "      <td>4.0</td>\n",
       "      <td>4.0</td>\n",
       "      <td>4.0</td>\n",
       "      <td>2.0</td>\n",
       "      <td>4.0</td>\n",
       "      <td>4.0</td>\n",
       "      <td>4.0</td>\n",
       "      <td>3.0</td>\n",
       "      <td>2.0</td>\n",
       "      <td>2.0</td>\n",
       "    </tr>\n",
       "    <tr>\n",
       "      <th>4</th>\n",
       "      <td>adidas</td>\n",
       "      <td>April 2022</td>\n",
       "      <td>außen hui innen pfui</td>\n",
       "      <td>not_recommended</td>\n",
       "      <td>3.0</td>\n",
       "      <td>2.0</td>\n",
       "      <td>2.0</td>\n",
       "      <td>4.0</td>\n",
       "      <td>2.0</td>\n",
       "      <td>2.0</td>\n",
       "      <td>3.0</td>\n",
       "      <td>3.0</td>\n",
       "      <td>3.0</td>\n",
       "      <td>2.0</td>\n",
       "      <td>3.0</td>\n",
       "      <td>4.0</td>\n",
       "    </tr>\n",
       "  </tbody>\n",
       "</table>\n",
       "</div>"
      ],
      "text/plain": [
       "  employer record_date                                            comment  \\\n",
       "0   adidas    Mai 2022                          adidas AG - Manager Level   \n",
       "1   adidas    Mai 2022  Großer Konzern mit konservativen und veraltete...   \n",
       "2   adidas    Mai 2022                 Super Campus aber intern politisch   \n",
       "3   adidas  April 2022                      Große Marke, hohe Erwartungen   \n",
       "4   adidas  April 2022                               außen hui innen pfui   \n",
       "\n",
       "    overall_result  interesting_tasks  equality  communication  \\\n",
       "0  not_recommended                4.0       4.0            4.0   \n",
       "1  not_recommended                1.0       2.0            1.0   \n",
       "2  not_recommended                4.0       1.0            2.0   \n",
       "3      recommended                5.0       5.0            4.0   \n",
       "4  not_recommended                3.0       2.0            2.0   \n",
       "\n",
       "   working_conditions  supervisor_behavior  dealing_w_older_colleagues  \\\n",
       "0                 4.0                  2.0                         2.0   \n",
       "1                 3.0                  1.0                         2.0   \n",
       "2                 3.0                  2.0                         1.0   \n",
       "3                 4.0                  4.0                         2.0   \n",
       "4                 4.0                  2.0                         2.0   \n",
       "\n",
       "   colleague_cohesion  environmental_social awareness  salary_benefits  \\\n",
       "0                 4.0                             4.0              2.0   \n",
       "1                 1.0                             3.0              4.0   \n",
       "2                 2.0                             4.0              2.0   \n",
       "3                 4.0                             4.0              4.0   \n",
       "4                 3.0                             3.0              3.0   \n",
       "\n",
       "   career_training  work_life_balance  image  \n",
       "0              2.0                4.0    3.0  \n",
       "1              1.0                2.0    2.0  \n",
       "2              3.0                5.0    2.0  \n",
       "3              3.0                2.0    2.0  \n",
       "4              2.0                3.0    4.0  "
      ]
     },
     "execution_count": 3,
     "metadata": {},
     "output_type": "execute_result"
    }
   ],
   "source": [
    "df = pd.read_csv(\"../data/kununu_cleaned_data.csv\")\n",
    "df.drop(\"Unnamed: 0\", axis=1, inplace=True)\n",
    "df.head()"
   ]
  },
  {
   "cell_type": "markdown",
   "id": "5b77d6c1",
   "metadata": {},
   "source": [
    "# Model building\n",
    "The goal is to build a classification model, that is able to predict weather a employee would recomment a employer based on the different rating features"
   ]
  },
  {
   "cell_type": "markdown",
   "id": "5cc9cd28",
   "metadata": {},
   "source": [
    "## Feature selection"
   ]
  },
  {
   "cell_type": "code",
   "execution_count": 53,
   "id": "eb8a862a",
   "metadata": {},
   "outputs": [
    {
     "data": {
      "text/plain": [
       "(recommended        2109\n",
       " not_recommended    1065\n",
       " Name: overall_result, dtype: int64,\n",
       " 1    2109\n",
       " 0    1065\n",
       " Name: overall, dtype: int64)"
      ]
     },
     "execution_count": 53,
     "metadata": {},
     "output_type": "execute_result"
    }
   ],
   "source": [
    "# Let's start by encoding the overall result column (\"recommended\" / \"not_recommended\"\n",
    "# to 1s and 0s (binary classification)\n",
    "\n",
    "encoder = LabelEncoder()\n",
    "df[\"overall\"] = encoder.fit_transform(df.overall_result)\n",
    "df.overall_result.value_counts(), df.overall.value_counts()"
   ]
  },
  {
   "cell_type": "code",
   "execution_count": 57,
   "id": "8ac0d7c6",
   "metadata": {},
   "outputs": [],
   "source": [
    "# Split data to data/feature and target \n",
    "\n",
    "drop_features = [\"employer\", \"record_date\", \"comment\", \"overall_result\", \"overall\"]\n",
    "\n",
    "target = df.overall\n",
    "data = df.drop(drop_features, axis=1)"
   ]
  },
  {
   "cell_type": "code",
   "execution_count": 56,
   "id": "7594e258",
   "metadata": {},
   "outputs": [
    {
     "data": {
      "text/plain": [
       "(<bound method Series.info of 0       0\n",
       " 1       0\n",
       " 2       0\n",
       " 3       1\n",
       " 4       0\n",
       "        ..\n",
       " 3169    0\n",
       " 3170    0\n",
       " 3171    0\n",
       " 3172    0\n",
       " 3173    0\n",
       " Name: overall, Length: 3174, dtype: int64>,\n",
       " interesting_tasks                 float64\n",
       " equality                          float64\n",
       " communication                     float64\n",
       " working_conditions                float64\n",
       " supervisor_behavior               float64\n",
       " dealing_w_older_colleagues        float64\n",
       " colleague_cohesion                float64\n",
       " environmental_social awareness    float64\n",
       " salary_benefits                   float64\n",
       " career_training                   float64\n",
       " work_life_balance                 float64\n",
       " image                             float64\n",
       " dtype: object)"
      ]
     },
     "execution_count": 56,
     "metadata": {},
     "output_type": "execute_result"
    }
   ],
   "source": [
    "# Check data types\n",
    "# The features were already encoded (ordinal scaled)\n",
    "target.info, data.dtypes"
   ]
  },
  {
   "cell_type": "code",
   "execution_count": 58,
   "id": "1503e54e",
   "metadata": {},
   "outputs": [
    {
     "name": "stdout",
     "output_type": "stream",
     "text": [
      "Number of target samples (rows): 3174 \n",
      "\n",
      "Number of feature samples (rows): 3174 \n",
      "\n",
      "Number of features (columns): 12 \n",
      "\n",
      "Features:\n",
      " ['interesting_tasks', 'equality', 'communication', 'working_conditions', 'supervisor_behavior', 'dealing_w_older_colleagues', 'colleague_cohesion', 'environmental_social awareness', 'salary_benefits', 'career_training', 'work_life_balance', 'image'] \n",
      "\n"
     ]
    }
   ],
   "source": [
    "print(f\"Number of target samples (rows): {target.shape[0]} \\n\")\n",
    "print(f\"Number of feature samples (rows): {target.shape[0]} \\n\")\n",
    "print(f\"Number of features (columns): {data.shape[1]} \\n\")\n",
    "print(f\"Features:\\n {list(data.columns)} \\n\")"
   ]
  },
  {
   "cell_type": "code",
   "execution_count": 59,
   "id": "ff2b2fda",
   "metadata": {},
   "outputs": [
    {
     "data": {
      "text/plain": [
       "interesting_tasks                 166\n",
       "equality                          201\n",
       "communication                     147\n",
       "working_conditions                169\n",
       "supervisor_behavior               145\n",
       "dealing_w_older_colleagues        265\n",
       "colleague_cohesion                143\n",
       "environmental_social awareness    250\n",
       "salary_benefits                   189\n",
       "career_training                   207\n",
       "work_life_balance                 203\n",
       "image                             228\n",
       "dtype: int64"
      ]
     },
     "execution_count": 59,
     "metadata": {},
     "output_type": "execute_result"
    }
   ],
   "source": [
    "# There are still quite a few missing values, \n",
    "# which need to be handled (I'll try if these values can be imputed within the model pipeline)\n",
    "\n",
    "data.isna().sum()"
   ]
  },
  {
   "cell_type": "markdown",
   "id": "d1fbc92c",
   "metadata": {},
   "source": [
    "## Create train-/test split"
   ]
  },
  {
   "cell_type": "code",
   "execution_count": 60,
   "id": "4545894c",
   "metadata": {},
   "outputs": [],
   "source": [
    "data_train, data_test, target_train, target_test = train_test_split(data, target, test_size=0.25, random_state=123)"
   ]
  },
  {
   "cell_type": "code",
   "execution_count": 61,
   "id": "6bd4dd26",
   "metadata": {},
   "outputs": [
    {
     "name": "stdout",
     "output_type": "stream",
     "text": [
      "Features train set (rows/columns): (2380, 12)\n",
      "Target train set (rows/columns): (2380,) \n",
      "\n",
      "Features test set (rows/columns): (794, 12)\n",
      "Target test set (rows/columns): (794,)\n"
     ]
    }
   ],
   "source": [
    "print(f\"Features train set (rows/columns): {data_train.shape}\")\n",
    "print(f\"Target train set (rows/columns): {target_train.shape} \\n\")\n",
    "\n",
    "print(f\"Features test set (rows/columns): {data_test.shape}\")\n",
    "\n",
    "print(f\"Target test set (rows/columns): {target_test.shape}\")"
   ]
  },
  {
   "cell_type": "markdown",
   "id": "13549e9d",
   "metadata": {},
   "source": [
    "The test set will be left out in the further process until the end for a final evaluation of the model."
   ]
  },
  {
   "cell_type": "markdown",
   "id": "989d658a",
   "metadata": {},
   "source": [
    "## Define preprocessing steps\n",
    "- impute missing values"
   ]
  },
  {
   "cell_type": "code",
   "execution_count": 63,
   "id": "75968775",
   "metadata": {},
   "outputs": [
    {
     "data": {
      "text/plain": [
       "['interesting_tasks',\n",
       " 'equality',\n",
       " 'communication',\n",
       " 'working_conditions',\n",
       " 'supervisor_behavior',\n",
       " 'dealing_w_older_colleagues',\n",
       " 'colleague_cohesion',\n",
       " 'environmental_social awareness',\n",
       " 'salary_benefits',\n",
       " 'career_training',\n",
       " 'work_life_balance',\n",
       " 'image']"
      ]
     },
     "execution_count": 63,
     "metadata": {},
     "output_type": "execute_result"
    }
   ],
   "source": [
    "# Let's make the model find the numerical columns automatically\n",
    "\n",
    "numerical_columns_selector = selector(dtype_exclude=object)\n",
    "numerical_columns = numerical_columns_selector(data)\n",
    "\n",
    "numerical_columns"
   ]
  },
  {
   "cell_type": "code",
   "execution_count": 70,
   "id": "6d72b85c",
   "metadata": {},
   "outputs": [],
   "source": [
    "# # Creating a preprocessor pipeline (Column Transformer) like this with only one step is not really necessary here, \n",
    "# but getting comfortable with this kind of structure can help later on...\n",
    "\n",
    "numerical_preprocessor = SimpleImputer(strategy=\"most_frequent\")\n",
    "\n",
    "preprocessor = make_column_transformer([\n",
    "    numerical_preprocessor, numerical_columns\n",
    "], remainder=\"passthrough\")"
   ]
  },
  {
   "cell_type": "markdown",
   "id": "3e9d9429",
   "metadata": {},
   "source": [
    "## Create model pipeline"
   ]
  },
  {
   "cell_type": "code",
   "execution_count": 71,
   "id": "bbd3c783",
   "metadata": {},
   "outputs": [
    {
     "data": {
      "text/html": [
       "<style>#sk-container-id-2 {color: black;background-color: white;}#sk-container-id-2 pre{padding: 0;}#sk-container-id-2 div.sk-toggleable {background-color: white;}#sk-container-id-2 label.sk-toggleable__label {cursor: pointer;display: block;width: 100%;margin-bottom: 0;padding: 0.3em;box-sizing: border-box;text-align: center;}#sk-container-id-2 label.sk-toggleable__label-arrow:before {content: \"▸\";float: left;margin-right: 0.25em;color: #696969;}#sk-container-id-2 label.sk-toggleable__label-arrow:hover:before {color: black;}#sk-container-id-2 div.sk-estimator:hover label.sk-toggleable__label-arrow:before {color: black;}#sk-container-id-2 div.sk-toggleable__content {max-height: 0;max-width: 0;overflow: hidden;text-align: left;background-color: #f0f8ff;}#sk-container-id-2 div.sk-toggleable__content pre {margin: 0.2em;color: black;border-radius: 0.25em;background-color: #f0f8ff;}#sk-container-id-2 input.sk-toggleable__control:checked~div.sk-toggleable__content {max-height: 200px;max-width: 100%;overflow: auto;}#sk-container-id-2 input.sk-toggleable__control:checked~label.sk-toggleable__label-arrow:before {content: \"▾\";}#sk-container-id-2 div.sk-estimator input.sk-toggleable__control:checked~label.sk-toggleable__label {background-color: #d4ebff;}#sk-container-id-2 div.sk-label input.sk-toggleable__control:checked~label.sk-toggleable__label {background-color: #d4ebff;}#sk-container-id-2 input.sk-hidden--visually {border: 0;clip: rect(1px 1px 1px 1px);clip: rect(1px, 1px, 1px, 1px);height: 1px;margin: -1px;overflow: hidden;padding: 0;position: absolute;width: 1px;}#sk-container-id-2 div.sk-estimator {font-family: monospace;background-color: #f0f8ff;border: 1px dotted black;border-radius: 0.25em;box-sizing: border-box;margin-bottom: 0.5em;}#sk-container-id-2 div.sk-estimator:hover {background-color: #d4ebff;}#sk-container-id-2 div.sk-parallel-item::after {content: \"\";width: 100%;border-bottom: 1px solid gray;flex-grow: 1;}#sk-container-id-2 div.sk-label:hover label.sk-toggleable__label {background-color: #d4ebff;}#sk-container-id-2 div.sk-serial::before {content: \"\";position: absolute;border-left: 1px solid gray;box-sizing: border-box;top: 0;bottom: 0;left: 50%;z-index: 0;}#sk-container-id-2 div.sk-serial {display: flex;flex-direction: column;align-items: center;background-color: white;padding-right: 0.2em;padding-left: 0.2em;position: relative;}#sk-container-id-2 div.sk-item {position: relative;z-index: 1;}#sk-container-id-2 div.sk-parallel {display: flex;align-items: stretch;justify-content: center;background-color: white;position: relative;}#sk-container-id-2 div.sk-item::before, #sk-container-id-2 div.sk-parallel-item::before {content: \"\";position: absolute;border-left: 1px solid gray;box-sizing: border-box;top: 0;bottom: 0;left: 50%;z-index: -1;}#sk-container-id-2 div.sk-parallel-item {display: flex;flex-direction: column;z-index: 1;position: relative;background-color: white;}#sk-container-id-2 div.sk-parallel-item:first-child::after {align-self: flex-end;width: 50%;}#sk-container-id-2 div.sk-parallel-item:last-child::after {align-self: flex-start;width: 50%;}#sk-container-id-2 div.sk-parallel-item:only-child::after {width: 0;}#sk-container-id-2 div.sk-dashed-wrapped {border: 1px dashed gray;margin: 0 0.4em 0.5em 0.4em;box-sizing: border-box;padding-bottom: 0.4em;background-color: white;}#sk-container-id-2 div.sk-label label {font-family: monospace;font-weight: bold;display: inline-block;line-height: 1.2em;}#sk-container-id-2 div.sk-label-container {text-align: center;}#sk-container-id-2 div.sk-container {/* jupyter's `normalize.less` sets `[hidden] { display: none; }` but bootstrap.min.css set `[hidden] { display: none !important; }` so we also need the `!important` here to be able to override the default hidden behavior on the sphinx rendered scikit-learn.org. See: https://github.com/scikit-learn/scikit-learn/issues/21755 */display: inline-block !important;position: relative;}#sk-container-id-2 div.sk-text-repr-fallback {display: none;}</style><div id=\"sk-container-id-2\" class=\"sk-top-container\"><div class=\"sk-text-repr-fallback\"><pre>Pipeline(steps=[(&#x27;columntransformer&#x27;,\n",
       "                 ColumnTransformer(remainder=&#x27;passthrough&#x27;,\n",
       "                                   transformers=[(&#x27;simpleimputer&#x27;,\n",
       "                                                  SimpleImputer(strategy=&#x27;most_frequent&#x27;),\n",
       "                                                  [&#x27;interesting_tasks&#x27;,\n",
       "                                                   &#x27;equality&#x27;, &#x27;communication&#x27;,\n",
       "                                                   &#x27;working_conditions&#x27;,\n",
       "                                                   &#x27;supervisor_behavior&#x27;,\n",
       "                                                   &#x27;dealing_w_older_colleagues&#x27;,\n",
       "                                                   &#x27;colleague_cohesion&#x27;,\n",
       "                                                   &#x27;environmental_social &#x27;\n",
       "                                                   &#x27;awareness&#x27;,\n",
       "                                                   &#x27;salary_benefits&#x27;,\n",
       "                                                   &#x27;career_training&#x27;,\n",
       "                                                   &#x27;work_life_balance&#x27;,\n",
       "                                                   &#x27;image&#x27;])])),\n",
       "                (&#x27;logisticregression&#x27;, LogisticRegression(max_iter=500))])</pre><b>In a Jupyter environment, please rerun this cell to show the HTML representation or trust the notebook. <br />On GitHub, the HTML representation is unable to render, please try loading this page with nbviewer.org.</b></div><div class=\"sk-container\" hidden><div class=\"sk-item sk-dashed-wrapped\"><div class=\"sk-label-container\"><div class=\"sk-label sk-toggleable\"><input class=\"sk-toggleable__control sk-hidden--visually\" id=\"sk-estimator-id-6\" type=\"checkbox\" ><label for=\"sk-estimator-id-6\" class=\"sk-toggleable__label sk-toggleable__label-arrow\">Pipeline</label><div class=\"sk-toggleable__content\"><pre>Pipeline(steps=[(&#x27;columntransformer&#x27;,\n",
       "                 ColumnTransformer(remainder=&#x27;passthrough&#x27;,\n",
       "                                   transformers=[(&#x27;simpleimputer&#x27;,\n",
       "                                                  SimpleImputer(strategy=&#x27;most_frequent&#x27;),\n",
       "                                                  [&#x27;interesting_tasks&#x27;,\n",
       "                                                   &#x27;equality&#x27;, &#x27;communication&#x27;,\n",
       "                                                   &#x27;working_conditions&#x27;,\n",
       "                                                   &#x27;supervisor_behavior&#x27;,\n",
       "                                                   &#x27;dealing_w_older_colleagues&#x27;,\n",
       "                                                   &#x27;colleague_cohesion&#x27;,\n",
       "                                                   &#x27;environmental_social &#x27;\n",
       "                                                   &#x27;awareness&#x27;,\n",
       "                                                   &#x27;salary_benefits&#x27;,\n",
       "                                                   &#x27;career_training&#x27;,\n",
       "                                                   &#x27;work_life_balance&#x27;,\n",
       "                                                   &#x27;image&#x27;])])),\n",
       "                (&#x27;logisticregression&#x27;, LogisticRegression(max_iter=500))])</pre></div></div></div><div class=\"sk-serial\"><div class=\"sk-item sk-dashed-wrapped\"><div class=\"sk-label-container\"><div class=\"sk-label sk-toggleable\"><input class=\"sk-toggleable__control sk-hidden--visually\" id=\"sk-estimator-id-7\" type=\"checkbox\" ><label for=\"sk-estimator-id-7\" class=\"sk-toggleable__label sk-toggleable__label-arrow\">columntransformer: ColumnTransformer</label><div class=\"sk-toggleable__content\"><pre>ColumnTransformer(remainder=&#x27;passthrough&#x27;,\n",
       "                  transformers=[(&#x27;simpleimputer&#x27;,\n",
       "                                 SimpleImputer(strategy=&#x27;most_frequent&#x27;),\n",
       "                                 [&#x27;interesting_tasks&#x27;, &#x27;equality&#x27;,\n",
       "                                  &#x27;communication&#x27;, &#x27;working_conditions&#x27;,\n",
       "                                  &#x27;supervisor_behavior&#x27;,\n",
       "                                  &#x27;dealing_w_older_colleagues&#x27;,\n",
       "                                  &#x27;colleague_cohesion&#x27;,\n",
       "                                  &#x27;environmental_social awareness&#x27;,\n",
       "                                  &#x27;salary_benefits&#x27;, &#x27;career_training&#x27;,\n",
       "                                  &#x27;work_life_balance&#x27;, &#x27;image&#x27;])])</pre></div></div></div><div class=\"sk-parallel\"><div class=\"sk-parallel-item\"><div class=\"sk-item\"><div class=\"sk-label-container\"><div class=\"sk-label sk-toggleable\"><input class=\"sk-toggleable__control sk-hidden--visually\" id=\"sk-estimator-id-8\" type=\"checkbox\" ><label for=\"sk-estimator-id-8\" class=\"sk-toggleable__label sk-toggleable__label-arrow\">simpleimputer</label><div class=\"sk-toggleable__content\"><pre>[&#x27;interesting_tasks&#x27;, &#x27;equality&#x27;, &#x27;communication&#x27;, &#x27;working_conditions&#x27;, &#x27;supervisor_behavior&#x27;, &#x27;dealing_w_older_colleagues&#x27;, &#x27;colleague_cohesion&#x27;, &#x27;environmental_social awareness&#x27;, &#x27;salary_benefits&#x27;, &#x27;career_training&#x27;, &#x27;work_life_balance&#x27;, &#x27;image&#x27;]</pre></div></div></div><div class=\"sk-serial\"><div class=\"sk-item\"><div class=\"sk-estimator sk-toggleable\"><input class=\"sk-toggleable__control sk-hidden--visually\" id=\"sk-estimator-id-9\" type=\"checkbox\" ><label for=\"sk-estimator-id-9\" class=\"sk-toggleable__label sk-toggleable__label-arrow\">SimpleImputer</label><div class=\"sk-toggleable__content\"><pre>SimpleImputer(strategy=&#x27;most_frequent&#x27;)</pre></div></div></div></div></div></div><div class=\"sk-parallel-item\"><div class=\"sk-item\"><div class=\"sk-label-container\"><div class=\"sk-label sk-toggleable\"><input class=\"sk-toggleable__control sk-hidden--visually\" id=\"sk-estimator-id-10\" type=\"checkbox\" ><label for=\"sk-estimator-id-10\" class=\"sk-toggleable__label sk-toggleable__label-arrow\">remainder</label><div class=\"sk-toggleable__content\"><pre></pre></div></div></div><div class=\"sk-serial\"><div class=\"sk-item\"><div class=\"sk-estimator sk-toggleable\"><input class=\"sk-toggleable__control sk-hidden--visually\" id=\"sk-estimator-id-11\" type=\"checkbox\" ><label for=\"sk-estimator-id-11\" class=\"sk-toggleable__label sk-toggleable__label-arrow\">passthrough</label><div class=\"sk-toggleable__content\"><pre>passthrough</pre></div></div></div></div></div></div></div></div><div class=\"sk-item\"><div class=\"sk-estimator sk-toggleable\"><input class=\"sk-toggleable__control sk-hidden--visually\" id=\"sk-estimator-id-12\" type=\"checkbox\" ><label for=\"sk-estimator-id-12\" class=\"sk-toggleable__label sk-toggleable__label-arrow\">LogisticRegression</label><div class=\"sk-toggleable__content\"><pre>LogisticRegression(max_iter=500)</pre></div></div></div></div></div></div></div>"
      ],
      "text/plain": [
       "Pipeline(steps=[('columntransformer',\n",
       "                 ColumnTransformer(remainder='passthrough',\n",
       "                                   transformers=[('simpleimputer',\n",
       "                                                  SimpleImputer(strategy='most_frequent'),\n",
       "                                                  ['interesting_tasks',\n",
       "                                                   'equality', 'communication',\n",
       "                                                   'working_conditions',\n",
       "                                                   'supervisor_behavior',\n",
       "                                                   'dealing_w_older_colleagues',\n",
       "                                                   'colleague_cohesion',\n",
       "                                                   'environmental_social '\n",
       "                                                   'awareness',\n",
       "                                                   'salary_benefits',\n",
       "                                                   'career_training',\n",
       "                                                   'work_life_balance',\n",
       "                                                   'image'])])),\n",
       "                ('logisticregression', LogisticRegression(max_iter=500))])"
      ]
     },
     "execution_count": 71,
     "metadata": {},
     "output_type": "execute_result"
    }
   ],
   "source": [
    "from sklearn import set_config\n",
    "set_config(display='diagram')\n",
    "\n",
    "model = make_pipeline(preprocessor, LogisticRegression(max_iter=500))\n",
    "\n",
    "model"
   ]
  },
  {
   "cell_type": "markdown",
   "id": "4b9d810e",
   "metadata": {},
   "source": [
    "## Evaluation of the model with cross-validation"
   ]
  },
  {
   "cell_type": "code",
   "execution_count": 76,
   "id": "e1716ad0",
   "metadata": {},
   "outputs": [
    {
     "data": {
      "text/html": [
       "<div>\n",
       "<style scoped>\n",
       "    .dataframe tbody tr th:only-of-type {\n",
       "        vertical-align: middle;\n",
       "    }\n",
       "\n",
       "    .dataframe tbody tr th {\n",
       "        vertical-align: top;\n",
       "    }\n",
       "\n",
       "    .dataframe thead th {\n",
       "        text-align: right;\n",
       "    }\n",
       "</style>\n",
       "<table border=\"1\" class=\"dataframe\">\n",
       "  <thead>\n",
       "    <tr style=\"text-align: right;\">\n",
       "      <th></th>\n",
       "      <th>fit_time</th>\n",
       "      <th>score_time</th>\n",
       "      <th>test_accuracy</th>\n",
       "      <th>test_balanced_accuracy</th>\n",
       "    </tr>\n",
       "  </thead>\n",
       "  <tbody>\n",
       "    <tr>\n",
       "      <th>0</th>\n",
       "      <td>0.032055</td>\n",
       "      <td>0.009709</td>\n",
       "      <td>0.903361</td>\n",
       "      <td>0.897171</td>\n",
       "    </tr>\n",
       "    <tr>\n",
       "      <th>1</th>\n",
       "      <td>0.029209</td>\n",
       "      <td>0.005067</td>\n",
       "      <td>0.901261</td>\n",
       "      <td>0.885899</td>\n",
       "    </tr>\n",
       "    <tr>\n",
       "      <th>2</th>\n",
       "      <td>0.033020</td>\n",
       "      <td>0.005690</td>\n",
       "      <td>0.913866</td>\n",
       "      <td>0.897321</td>\n",
       "    </tr>\n",
       "    <tr>\n",
       "      <th>3</th>\n",
       "      <td>0.056957</td>\n",
       "      <td>0.009772</td>\n",
       "      <td>0.907563</td>\n",
       "      <td>0.889420</td>\n",
       "    </tr>\n",
       "    <tr>\n",
       "      <th>4</th>\n",
       "      <td>0.018871</td>\n",
       "      <td>0.003404</td>\n",
       "      <td>0.888655</td>\n",
       "      <td>0.864123</td>\n",
       "    </tr>\n",
       "  </tbody>\n",
       "</table>\n",
       "</div>"
      ],
      "text/plain": [
       "   fit_time  score_time  test_accuracy  test_balanced_accuracy\n",
       "0  0.032055    0.009709       0.903361                0.897171\n",
       "1  0.029209    0.005067       0.901261                0.885899\n",
       "2  0.033020    0.005690       0.913866                0.897321\n",
       "3  0.056957    0.009772       0.907563                0.889420\n",
       "4  0.018871    0.003404       0.888655                0.864123"
      ]
     },
     "execution_count": 76,
     "metadata": {},
     "output_type": "execute_result"
    }
   ],
   "source": [
    "scoring = [\"accuracy\", \"balanced_accuracy\"]\n",
    "\n",
    "cv_result = cross_validate(model, data_train, target_train, cv=10, scoring=scoring)\n",
    "cv_result_df = pd.DataFrame(cv_result)\n",
    "cv_result_df"
   ]
  },
  {
   "cell_type": "code",
   "execution_count": 91,
   "id": "71669bcd",
   "metadata": {},
   "outputs": [
    {
     "name": "stdout",
     "output_type": "stream",
     "text": [
      "The mean cross-validation accuracy is: 0.903 +/- 0.009\n",
      "The mean cross-validation balanced accuracy is: 0.887 +/- 0.014\n"
     ]
    }
   ],
   "source": [
    "print(f\"The mean cross-validation accuracy is: {cv_result_df.test_accuracy.mean():.3f} +/- {cv_result_df.test_accuracy.std():.3f}\")\n",
    "print(f\"The mean cross-validation balanced accuracy is: {cv_result_df.test_balanced_accuracy.mean():.3f} +/- {cv_result_df.test_balanced_accuracy.std():.3f}\")"
   ]
  },
  {
   "cell_type": "markdown",
   "id": "6934f81f",
   "metadata": {},
   "source": [
    "## Train the model"
   ]
  },
  {
   "cell_type": "code",
   "execution_count": 93,
   "id": "d366eb15",
   "metadata": {},
   "outputs": [],
   "source": [
    "_ = model.fit(data_train, target_train)"
   ]
  },
  {
   "cell_type": "markdown",
   "id": "b7d8edbc",
   "metadata": {},
   "source": [
    "## Predict and score"
   ]
  },
  {
   "cell_type": "code",
   "execution_count": 94,
   "id": "3abd7a93",
   "metadata": {},
   "outputs": [],
   "source": [
    "target_predictions = model.predict(data_test)"
   ]
  },
  {
   "cell_type": "code",
   "execution_count": 112,
   "id": "5d98e063",
   "metadata": {},
   "outputs": [
    {
     "name": "stdout",
     "output_type": "stream",
     "text": [
      "Accuracy score on test set: 0.89%\n",
      "Accuracy score on test set: 0.87%\n"
     ]
    }
   ],
   "source": [
    "score = accuracy_score(target_test, target_predictions)\n",
    "score2 = balanced_accuracy_score(target_test, target_predictions)\n",
    "print(f\"Accuracy score on test set: {score:.2f}%\")\n",
    "print(f\"Accuracy score on test set: {score2:.2f}%\")"
   ]
  },
  {
   "cell_type": "code",
   "execution_count": 156,
   "id": "454d177f",
   "metadata": {},
   "outputs": [
    {
     "data": {
      "image/png": "[encoded data removed]",
      "text/plain": [
       "<Figure size 432x288 with 1 Axes>"
      ]
     },
     "metadata": {
      "needs_background": "light"
     },
     "output_type": "display_data"
    },
    {
     "data": {
      "image/png": "[encoded data removed]",
      "text/plain": [
       "<Figure size 432x288 with 1 Axes>"
      ]
     },
     "metadata": {
      "needs_background": "light"
     },
     "output_type": "display_data"
    }
   ],
   "source": [
    "probas = model.predict_proba(data_test)\n",
    "\n",
    "x_1 = target_predictions[-500:] \n",
    "y_1 = probas[-500:,0]\n",
    "x_0 = target_predictions[-500:] \n",
    "y_0 = probas[-500:,1]\n",
    "_ = sns.histplot(x=x_1, y=y_1)\n",
    "plt.show()\n",
    "_ = sns.histplot(x=x_0, y=y_0)\n",
    "plt.show()"
   ]
  },
  {
   "cell_type": "code",
   "execution_count": 131,
   "id": "bd3ec8ff",
   "metadata": {},
   "outputs": [
    {
     "data": {
      "text/plain": [
       "array([[ 0.17933985,  0.13032365,  0.60771196,  0.19593777,  0.32706629,\n",
       "         0.08528203,  0.22963624, -0.07874539,  0.28790538,  0.32687987,\n",
       "         0.22529221,  0.3398163 ]])"
      ]
     },
     "execution_count": 131,
     "metadata": {},
     "output_type": "execute_result"
    }
   ],
   "source": [
    "model['logisticregression'].coef_"
   ]
  }
 ],
 "metadata": {
  "kernelspec": {
   "display_name": "Data_Acquisition",
   "language": "python",
   "name": "data_acquisition"
  },
  "language_info": {
   "codemirror_mode": {
    "name": "ipython",
    "version": 3
   },
   "file_extension": ".py",
   "mimetype": "text/x-python",
   "name": "python",
   "nbconvert_exporter": "python",
   "pygments_lexer": "ipython3",
   "version": "3.10.1"
  }
 },
 "nbformat": 4,
 "nbformat_minor": 5
}
